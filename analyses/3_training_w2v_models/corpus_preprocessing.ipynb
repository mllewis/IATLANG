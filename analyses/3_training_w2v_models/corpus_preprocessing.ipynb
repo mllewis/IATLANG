{
 "cells": [
  {
   "cell_type": "markdown",
   "metadata": {},
   "source": [
    "# Train word2vec models"
   ]
  },
  {
   "cell_type": "code",
   "execution_count": 87,
   "metadata": {},
   "outputs": [],
   "source": [
    "import gensim #For word2vec, etc\n",
    "import nltk #For stop words and stemmers\n",
    "import numpy as np #For arrays\n",
    "import pandas as pd #Gives us DataFrames\n",
    "import feather"
   ]
  },
  {
   "cell_type": "markdown",
   "metadata": {},
   "source": [
    "### Params"
   ]
  },
  {
   "cell_type": "code",
   "execution_count": 103,
   "metadata": {},
   "outputs": [],
   "source": [
    "LANGUAGE = \"en-nl.en\"\n",
    "# PARAMS =\n",
    "\n",
    "input_file = \"../data/lang/en-nl.txt/OpenSubtitles2016\" + LANGUAGE\n",
    "output_file = \"../data/models/\" + LANGUAGE + \".model.feather\""
   ]
  },
  {
   "cell_type": "markdown",
   "metadata": {},
   "source": [
    "### Read in corpus"
   ]
  },
  {
   "cell_type": "code",
   "execution_count": 95,
   "metadata": {},
   "outputs": [
    {
     "data": {
      "text/plain": [
       "False"
      ]
     },
     "execution_count": 95,
     "metadata": {},
     "output_type": "execute_result"
    }
   ],
   "source": [
    "f = open(input_file)\n",
    "k = f.readlines()"
   ]
  },
  {
   "cell_type": "code",
   "execution_count": 104,
   "metadata": {},
   "outputs": [
    {
     "data": {
      "text/plain": [
       "['Everything moves, everything orbits.\\n',\n",
       " 'It is how we are born.\\n',\n",
       " 'The Sun, the moon, the planets and the stars watch.\\n',\n",
       " 'We are at the Centre.\\n']"
      ]
     },
     "execution_count": 104,
     "metadata": {},
     "output_type": "execute_result"
    }
   ],
   "source": [
    "m = k[1:5]\n",
    "m"
   ]
  },
  {
   "cell_type": "markdown",
   "metadata": {},
   "source": [
    "### Remove line breaks and tranform into lowercase"
   ]
  },
  {
   "cell_type": "code",
   "execution_count": 105,
   "metadata": {},
   "outputs": [],
   "source": [
    "m[:] = [x.strip().lower() for x in m]"
   ]
  },
  {
   "cell_type": "markdown",
   "metadata": {},
   "source": [
    "### Tokenize"
   ]
  },
  {
   "cell_type": "code",
   "execution_count": 106,
   "metadata": {},
   "outputs": [
    {
     "data": {
      "text/plain": [
       "[['everything', 'moves', ',', 'everything', 'orbits', '.'],\n",
       " ['it', 'is', 'how', 'we', 'are', 'born', '.'],\n",
       " ['the',\n",
       "  'sun',\n",
       "  ',',\n",
       "  'the',\n",
       "  'moon',\n",
       "  ',',\n",
       "  'the',\n",
       "  'planets',\n",
       "  'and',\n",
       "  'the',\n",
       "  'stars',\n",
       "  'watch',\n",
       "  '.'],\n",
       " ['we', 'are', 'at', 'the', 'centre', '.']]"
      ]
     },
     "execution_count": 106,
     "metadata": {},
     "output_type": "execute_result"
    }
   ],
   "source": [
    "#from nltk.tokenize import ToktokTokenizer\n",
    "#toktok = ToktokTokenizer()\n",
    "#tokenized_sents2 = [toktok.tokenize(i) for i in m] # this is supposed to be faster\n",
    "\n",
    "tokenized_sents = [nltk.word_tokenize(i) for i in m]\n",
    "tokenized_sents"
   ]
  },
  {
   "cell_type": "markdown",
   "metadata": {},
   "source": [
    "### Train model"
   ]
  },
  {
   "cell_type": "code",
   "execution_count": 99,
   "metadata": {},
   "outputs": [
    {
     "data": {
      "text/plain": [
       "array([  3.08674201e-03,  -1.17659441e-03,  -2.17146706e-03,\n",
       "         1.79049105e-03,  -3.94640397e-03,   4.32249304e-04,\n",
       "         6.33389107e-04,  -3.29779927e-03,   2.22246730e-04,\n",
       "        -3.02830013e-05,   1.40018202e-03,  -4.70601866e-04,\n",
       "        -1.16943345e-04,  -4.09668917e-03,   4.06904938e-03,\n",
       "         8.96745885e-04,  -4.22327360e-03,   4.76999395e-03,\n",
       "        -4.21934994e-03,  -5.37982269e-04,  -1.21109630e-03,\n",
       "        -4.51856013e-03,  -1.60665604e-05,   4.72700316e-03,\n",
       "         2.40952079e-03,  -1.67735096e-03,   4.32641432e-03,\n",
       "        -4.20142105e-03,   3.14965798e-03,  -3.88322142e-03,\n",
       "        -1.98869337e-03,  -2.14203866e-03,  -1.03898288e-03,\n",
       "         2.43841321e-03,   2.81884382e-03,  -4.58105141e-03,\n",
       "        -4.25306335e-03,   3.01004213e-04,  -3.60288715e-04,\n",
       "        -3.41992499e-03,  -3.08083883e-03,   1.05069065e-03,\n",
       "        -2.50284886e-03,   7.85518496e-04,   3.85327777e-03,\n",
       "        -3.50352959e-03,  -8.83169996e-04,  -4.93010227e-03,\n",
       "        -3.37590324e-03,   4.89340862e-03,  -2.48757424e-04,\n",
       "         1.06154871e-03,   3.10839526e-03,   1.76715781e-03,\n",
       "         1.12110272e-03,   4.05573286e-03,   2.64418719e-04,\n",
       "         1.28643145e-03,  -4.01831651e-03,   2.24903459e-03,\n",
       "        -5.44655311e-04,   3.03948787e-03,  -3.75995389e-03,\n",
       "         4.86452272e-03,   3.75023414e-03,  -5.52273355e-04,\n",
       "        -1.35245000e-03,   2.23913719e-03,  -3.12326592e-03,\n",
       "        -3.72771086e-04,  -4.01726784e-03,   4.61293478e-03,\n",
       "        -2.89999624e-03,   2.97463639e-03,   4.29154315e-05,\n",
       "         4.65354649e-03,  -1.05835649e-03,   1.24724675e-03,\n",
       "        -4.63934150e-03,   1.70839322e-03,   2.72962195e-03,\n",
       "        -2.56855274e-03,   3.29820556e-03,   2.77219666e-03,\n",
       "        -5.62354515e-04,   7.39031297e-04,  -3.33473762e-03,\n",
       "        -3.23904795e-03,   4.94054472e-03,  -2.76236585e-03,\n",
       "         4.59947856e-03,   1.55178842e-03,   7.07277795e-04,\n",
       "         4.72939014e-03,   4.46580304e-03,  -6.27320609e-04,\n",
       "        -3.20529123e-03,   3.35061108e-03,  -4.23886860e-03,\n",
       "         5.77661674e-04], dtype=float32)"
      ]
     },
     "execution_count": 99,
     "metadata": {},
     "output_type": "execute_result"
    }
   ],
   "source": [
    "m = gensim.models.word2vec.Word2Vec(tokenized_sents) # specify params above\n",
    "m['the']"
   ]
  },
  {
   "cell_type": "markdown",
   "metadata": {},
   "source": [
    "### Write model to feather"
   ]
  },
  {
   "cell_type": "code",
   "execution_count": 92,
   "metadata": {},
   "outputs": [],
   "source": [
    "\n",
    "feather.write_dataframe(pd.DataFrame(m), output_file)"
   ]
  }
 ],
 "metadata": {
  "anaconda-cloud": {},
  "kernelspec": {
   "display_name": "Python 2",
   "language": "python",
   "name": "python2"
  },
  "language_info": {
   "codemirror_mode": {
    "name": "ipython",
    "version": 3
   },
   "file_extension": ".py",
   "mimetype": "text/x-python",
   "name": "python",
   "nbconvert_exporter": "python",
   "pygments_lexer": "ipython3",
   "version": "3.6.2"
  }
 },
 "nbformat": 4,
 "nbformat_minor": 1
}
