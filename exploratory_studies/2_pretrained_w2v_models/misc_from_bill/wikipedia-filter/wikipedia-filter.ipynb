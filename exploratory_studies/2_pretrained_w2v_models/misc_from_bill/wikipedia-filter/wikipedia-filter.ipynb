{
 "cells": [
  {
   "cell_type": "code",
   "execution_count": 1,
   "metadata": {
    "collapsed": true
   },
   "outputs": [],
   "source": [
    "import pandas as pd\n",
    "\n",
    "wiki_stats = pd.read_csv('wiki_stats.csv')"
   ]
  },
  {
   "cell_type": "code",
   "execution_count": 2,
   "metadata": {},
   "outputs": [
    {
     "data": {
      "text/plain": [
       "_                            14\n",
       "Language             Portuguese\n",
       "Language (local)      Portugu�s\n",
       "Wiki                         pt\n",
       "Articles                 981056\n",
       "Total               4.48884e+06\n",
       "Edits               5.12956e+07\n",
       "Admins                       73\n",
       "Users               2.00486e+06\n",
       "Active Users               5863\n",
       "Files                     45748\n",
       "Depth                       146\n",
       "Name: 0, dtype: object"
      ]
     },
     "execution_count": 2,
     "metadata": {},
     "output_type": "execute_result"
    }
   ],
   "source": [
    "wiki_stats.iloc[0]"
   ]
  },
  {
   "cell_type": "code",
   "execution_count": 3,
   "metadata": {},
   "outputs": [],
   "source": [
    "wiki_stats['r'] = wiki_stats['Articles'] / wiki_stats['Active Users']"
   ]
  },
  {
   "cell_type": "code",
   "execution_count": 6,
   "metadata": {
    "collapsed": true
   },
   "outputs": [],
   "source": [
    "wiki_stats['usable'] = (wiki_stats.r < pow(10, 4)) & (wiki_stats.Depth > 5)"
   ]
  },
  {
   "cell_type": "code",
   "execution_count": 7,
   "metadata": {},
   "outputs": [
    {
     "name": "stdout",
     "output_type": "stream",
     "text": [
      "44\n"
     ]
    }
   ],
   "source": [
    "print wiki_stats.usable.sum()"
   ]
  },
  {
   "cell_type": "code",
   "execution_count": 10,
   "metadata": {},
   "outputs": [
    {
     "data": {
      "text/plain": [
       "array(['pt', 'zh', 'uk', 'fa', 'ca', 'ar', 'no', 'sh', 'fi', 'hu', 'id',\n",
       "       'ko', 'cs', 'ro', 'sr', 'ms', 'tr', 'eu', 'eo', 'bg', 'hy', 'da',\n",
       "       'zh-min-nan', 'sk', 'kk', 'he', 'lt', 'hr', 'et', 'sl', 'be', 'gl',\n",
       "       'el', 'nn', 'uz', 'simple', 'az', 'la', 'ur', 'hi', 'vo', 'th',\n",
       "       'ka', 'ta'], dtype=object)"
      ]
     },
     "execution_count": 10,
     "metadata": {},
     "output_type": "execute_result"
    }
   ],
   "source": [
    "wiki_stats[wiki_stats.usable].Wiki.values"
   ]
  },
  {
   "cell_type": "code",
   "execution_count": null,
   "metadata": {
    "collapsed": true
   },
   "outputs": [],
   "source": [
    "wiki_stats[wiki_stats.usable].Wiki.to_csv('usable_languages.csv', index = False)"
   ]
  }
 ],
 "metadata": {
  "kernelspec": {
   "display_name": "Python 2",
   "language": "python",
   "name": "python2"
  },
  "language_info": {
   "codemirror_mode": {
    "name": "ipython",
    "version": 3
   },
   "file_extension": ".py",
   "mimetype": "text/x-python",
   "name": "python",
   "nbconvert_exporter": "python",
   "pygments_lexer": "ipython3",
   "version": "3.6.2"
  }
 },
 "nbformat": 4,
 "nbformat_minor": 2
}
